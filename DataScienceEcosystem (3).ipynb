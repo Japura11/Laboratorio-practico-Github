{
 "cells": [
  {
   "cell_type": "markdown",
   "id": "010a100f-7998-4703-82dd-30da817799e0",
   "metadata": {},
   "source": [
    "Data Science Tools and Ecosystem"
   ]
  },
  {
   "cell_type": "markdown",
   "id": "a77314a3-c59b-41bc-b785-4839a7dfa9c5",
   "metadata": {},
   "source": [
    "In this notebook, Data Science Tools and Ecosystem are summarized."
   ]
  },
  {
   "cell_type": "markdown",
   "id": "6727d09d-e61f-4d5f-b18a-2ab0c858c62c",
   "metadata": {},
   "source": [
    "Some of the popular languages that Data Scientists use are:\n",
    "1. PYHTON\n",
    "2. SQL\n",
    "3. R\n",
    "4. MATLAB\n",
    "   "
   ]
  },
  {
   "cell_type": "markdown",
   "id": "d234f4a7-5cec-4830-a159-42af64b11806",
   "metadata": {},
   "source": [
    "Some of the commonly used libraries used by Data Scientists include:\n",
    "1. NUNMPY\n",
    "2. PANDAS\n",
    "3. MATPLOTLIB\n",
    "4. SCIKIT-LEARN\n"
   ]
  },
  {
   "cell_type": "markdown",
   "id": "1b01e24d-ae8b-4eb9-b073-0d68b519306d",
   "metadata": {},
   "source": [
    "Data Science Tools\n",
    "\n",
    "| TOOL | \n",
    "| --- |\n",
    "| RSTUDIO | \n",
    "| ANACONDA | \n",
    "| JUPYTER NOTEBOOCK | \n",
    "| APACHE SPARK | \n"
   ]
  },
  {
   "cell_type": "markdown",
   "id": "7d9a9486-1a55-4923-9525-7b4385f55b9f",
   "metadata": {},
   "source": [
    "### Below are a few examples of evaluating arithmetic expressions in Python\n"
   ]
  },
  {
   "cell_type": "code",
   "execution_count": 2,
   "id": "bdb6a577-1ed2-4d6c-9109-ecb46aa331d0",
   "metadata": {},
   "outputs": [
    {
     "name": "stdout",
     "output_type": "stream",
     "text": [
      "48\n"
     ]
    }
   ],
   "source": [
    "# This a simple arithmetic expression to multiply then add integers.\n",
    "result = (9*4) + 12\n",
    "print(result)\n"
   ]
  },
  {
   "cell_type": "code",
   "execution_count": 3,
   "id": "32aca084-6699-4234-b4b8-d19d2ea3171a",
   "metadata": {},
   "outputs": [
    {
     "name": "stdout",
     "output_type": "stream",
     "text": [
      "3.3333333333333335\n"
     ]
    }
   ],
   "source": [
    "# This will convert 200 minutes to hours by dividing by 60.\n",
    "hours = 200 / 60\n",
    "print(hours)\n"
   ]
  },
  {
   "cell_type": "markdown",
   "id": "02661a0f-46d5-4d37-8c53-c34db5f08376",
   "metadata": {},
   "source": [
    "**Objectives:**\n",
    "* List popular languages for Data Science\n",
    "* List commonly used libraries for Data Science\n",
    "* Evaluate arithmetic expressions in Python\n"
   ]
  },
  {
   "cell_type": "markdown",
   "id": "b65008fe-4b32-46c5-9cee-df2a2e821f90",
   "metadata": {},
   "source": [
    "## Author\n",
    "Richard Alburquerque cruz\n"
   ]
  },
  {
   "cell_type": "code",
   "execution_count": null,
   "id": "01529ccf-ddf7-4cda-a5df-c1eafe1b9268",
   "metadata": {},
   "outputs": [],
   "source": []
  }
 ],
 "metadata": {
  "kernelspec": {
   "display_name": "Python 3 (ipykernel)",
   "language": "python",
   "name": "python3"
  },
  "language_info": {
   "codemirror_mode": {
    "name": "ipython",
    "version": 3
   },
   "file_extension": ".py",
   "mimetype": "text/x-python",
   "name": "python",
   "nbconvert_exporter": "python",
   "pygments_lexer": "ipython3",
   "version": "3.11.9"
  }
 },
 "nbformat": 4,
 "nbformat_minor": 5
}
